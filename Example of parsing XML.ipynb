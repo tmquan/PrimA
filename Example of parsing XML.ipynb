{
 "cells": [
  {
   "cell_type": "code",
   "execution_count": 1,
   "metadata": {
    "collapsed": false
   },
   "outputs": [
    {
     "name": "stdout",
     "output_type": "stream",
     "text": [
      "'Example of parsing XML.ipynb'      README.md   data_preparation.py\r\n",
      " \u001b[0m\u001b[01;32mPRImA_LayoutAnalysisDataset.zip\u001b[0m*   \u001b[34;42mdata\u001b[0m/       \u001b[34;42mdataset\u001b[0m/\r\n"
     ]
    }
   ],
   "source": [
    "%ls"
   ]
  },
  {
   "cell_type": "code",
   "execution_count": 58,
   "metadata": {
    "collapsed": true
   },
   "outputs": [],
   "source": [
    "import os\n",
    "import sys\n",
    "import xml\n",
    "import xml.etree.ElementTree as ET\n",
    "import numpy as np\n",
    "from natsort import natsorted\n",
    "from bs4 import BeautifulSoup as bs\n",
    "from IPython.display import Image, display"
   ]
  },
  {
   "cell_type": "code",
   "execution_count": 5,
   "metadata": {
    "collapsed": true
   },
   "outputs": [],
   "source": [
    "xmlFile = 'dataset/XML/00000086.xml'"
   ]
  },
  {
   "cell_type": "code",
   "execution_count": 17,
   "metadata": {
    "collapsed": false
   },
   "outputs": [
    {
     "name": "stdout",
     "output_type": "stream",
     "text": [
      "<xml.etree.ElementTree.ElementTree object at 0x7f2fb3628c88>\n",
      "<Element '{http://schema.primaresearch.org/PAGE/gts/pagecontent/2010-03-19}PcGts' at 0x7f2fb36725e8>\n",
      "{http://schema.primaresearch.org/PAGE/gts/pagecontent/2010-03-19}PcGts\n",
      "{'{http://www.w3.org/2001/XMLSchema-instance}schemaLocation': 'http://schema.primaresearch.org/PAGE/gts/pagecontent/2010-03-19 http://schema.primaresearch.org/PAGE/gts/pagecontent/2010-03-19/pagecontent.xsd', 'pcGtsId': 'pc-00000086'}\n"
     ]
    }
   ],
   "source": [
    "tree = ET.parse(xmlFile)\n",
    "print(tree)\n",
    "root = tree.getroot()\n",
    "print(root)\n",
    "print(root.tag)\n",
    "print(root.attrib)"
   ]
  },
  {
   "cell_type": "code",
   "execution_count": 26,
   "metadata": {
    "collapsed": false
   },
   "outputs": [
    {
     "name": "stdout",
     "output_type": "stream",
     "text": [
      "{http://schema.primaresearch.org/PAGE/gts/pagecontent/2010-03-19}Metadata\n",
      "{}\n",
      "{http://schema.primaresearch.org/PAGE/gts/pagecontent/2010-03-19}Page\n",
      "{'imageFilename': '00000086.tif', 'imageHeight': '3275', 'imageWidth': '2442'}\n"
     ]
    }
   ],
   "source": [
    "for child in root.getchildren():\n",
    "    print(child.tag)\n",
    "    print(child.attrib) \n",
    "    metadata = child.attrib\n",
    "    "
   ]
  },
  {
   "cell_type": "code",
   "execution_count": 28,
   "metadata": {
    "collapsed": false
   },
   "outputs": [
    {
     "name": "stdout",
     "output_type": "stream",
     "text": [
      "00000086.tif\n",
      "3275\n",
      "2442\n"
     ]
    }
   ],
   "source": [
    "print(metadata['imageFilename'])\n",
    "print(metadata['imageHeight'])\n",
    "print(metadata['imageWidth'])"
   ]
  },
  {
   "cell_type": "code",
   "execution_count": 86,
   "metadata": {
    "collapsed": false
   },
   "outputs": [],
   "source": [
    "schema = {\n",
    "    \"Background\": 0,\n",
    "    \"TextRegion\": 1,\n",
    "    \"ImageRegion\": 2,\n",
    "    \"LineDrawingRegion\": 3, \n",
    "    \"GraphicRegion\" : 4, \n",
    "    \"TableRegion\" : 5,\n",
    "    \"ChartRegion\" : 6, \n",
    "    \"SeparatorRegion\" : 7,\n",
    "    \"MathsRegion\" : 8,\n",
    "    \"NoiseRegion\" : 9,\n",
    "    \"FrameRegion\" : 10,\n",
    "}\n",
    "\n",
    "semans = [\n",
    "    \"Background\",\n",
    "    \"TextRegion\",\n",
    "    \"ImageRegion\",\n",
    "    \"LineDrawingRegion\", \n",
    "    \"GraphicRegion\", \n",
    "    \"TableRegion\",\n",
    "    \"ChartRegion\", \n",
    "    \"SeparatorRegion\",\n",
    "    \"MathsRegion\",\n",
    "    \"NoiseRegion\",\n",
    "    \"FrameRegion\",\n",
    "]"
   ]
  },
  {
   "cell_type": "code",
   "execution_count": 45,
   "metadata": {
    "collapsed": false
   },
   "outputs": [
    {
     "name": "stdout",
     "output_type": "stream",
     "text": [
      "<Element '{http://schema.primaresearch.org/PAGE/gts/pagecontent/2010-03-19}PcGts' at 0x7f2fb36725e8>\n",
      "<Element '{http://schema.primaresearch.org/PAGE/gts/pagecontent/2010-03-19}Metadata' at 0x7f2fb3672818>\n",
      "<Element '{http://schema.primaresearch.org/PAGE/gts/pagecontent/2010-03-19}Page' at 0x7f2fb3672c28>\n"
     ]
    }
   ],
   "source": [
    "print(root)\n",
    "\n",
    "for child in root.getchildren():\n",
    "    print(child)\n",
    "    print(child."
   ]
  },
  {
   "cell_type": "code",
   "execution_count": 34,
   "metadata": {
    "collapsed": false
   },
   "outputs": [],
   "source": [
    "# elemList = []\n",
    "# propList = []\n",
    "# for elem in tree.iter():\n",
    "#     elemList.append(elem.tag) \n",
    "#     propList.append(elem.attrib)"
   ]
  },
  {
   "cell_type": "code",
   "execution_count": 90,
   "metadata": {
    "collapsed": false
   },
   "outputs": [
    {
     "name": "stdout",
     "output_type": "stream",
     "text": [
      "{'imageFilename': '00000086.tif', 'imageHeight': '3275', 'imageWidth': '2442'}\n",
      "TextRegion\n",
      "{http://schema.primaresearch.org/PAGE/gts/pagecontent/2010-03-19}TextRegion\n",
      "3184 2182\n",
      "3209 2182\n",
      "3209 2140\n",
      "3184 2140\n",
      "TextRegion\n",
      "{http://schema.primaresearch.org/PAGE/gts/pagecontent/2010-03-19}TextRegion\n",
      "3191 2061\n",
      "3214 2061\n",
      "3214 1375\n",
      "3191 1375\n",
      "TextRegion\n",
      "{http://schema.primaresearch.org/PAGE/gts/pagecontent/2010-03-19}TextRegion\n",
      "1113 1886\n",
      "1178 1886\n",
      "1178 662\n",
      "1113 662\n",
      "TextRegion\n",
      "{http://schema.primaresearch.org/PAGE/gts/pagecontent/2010-03-19}TextRegion\n",
      "498 1727\n",
      "592 1727\n",
      "592 776\n",
      "498 776\n",
      "TextRegion\n",
      "{http://schema.primaresearch.org/PAGE/gts/pagecontent/2010-03-19}TextRegion\n",
      "637 2137\n",
      "725 2137\n",
      "725 576\n",
      "637 576\n",
      "TextRegion\n",
      "{http://schema.primaresearch.org/PAGE/gts/pagecontent/2010-03-19}TextRegion\n",
      "567 530\n",
      "725 530\n",
      "725 387\n",
      "567 387\n",
      "TextRegion\n",
      "{http://schema.primaresearch.org/PAGE/gts/pagecontent/2010-03-19}TextRegion\n",
      "700 370\n",
      "779 370\n",
      "779 2192\n",
      "1041 2192\n",
      "1041 171\n",
      "700 171\n",
      "SeparatorRegion\n",
      "{http://schema.primaresearch.org/PAGE/gts/pagecontent/2010-03-19}SeparatorRegion\n",
      "1059 327\n",
      "3088 327\n",
      "3088 325\n",
      "1059 325\n",
      "TextRegion\n",
      "{http://schema.primaresearch.org/PAGE/gts/pagecontent/2010-03-19}TextRegion\n",
      "1250 511\n",
      "1250 2033\n",
      "1348 2033\n",
      "1348 2172\n",
      "1389 2172\n",
      "1389 363\n",
      "1330 363\n",
      "1330 511\n",
      "TextRegion\n",
      "{http://schema.primaresearch.org/PAGE/gts/pagecontent/2010-03-19}TextRegion\n",
      "1439 362\n",
      "1439 2184\n",
      "1544 2184\n",
      "1544 2185\n",
      "1579 2185\n",
      "1579 2184\n",
      "1688 2184\n",
      "1688 362\n",
      "1648 362\n",
      "1648 364\n",
      "1479 364\n",
      "1479 362\n",
      "TextRegion\n",
      "{http://schema.primaresearch.org/PAGE/gts/pagecontent/2010-03-19}TextRegion\n",
      "1753 363\n",
      "1753 1247\n",
      "1903 1247\n",
      "1903 1246\n",
      "1961 1246\n",
      "1961 1247\n",
      "2060 1247\n",
      "2060 1246\n",
      "2164 1246\n",
      "2164 1245\n",
      "2222 1245\n",
      "2222 1247\n",
      "2268 1247\n",
      "2268 1246\n",
      "2309 1246\n",
      "2309 1187\n",
      "2373 1187\n",
      "2373 363\n",
      "2170 363\n",
      "2170 364\n",
      "2112 364\n",
      "2112 363\n",
      "2013 363\n",
      "2013 364\n",
      "1956 364\n",
      "1956 363\n",
      "TextRegion\n",
      "{http://schema.primaresearch.org/PAGE/gts/pagecontent/2010-03-19}TextRegion\n",
      "1753 1300\n",
      "1753 2185\n",
      "1799 2185\n",
      "1799 2184\n",
      "1909 2184\n",
      "1909 2186\n",
      "1955 2186\n",
      "1955 2184\n",
      "2013 2184\n",
      "2013 2185\n",
      "2055 2185\n",
      "2055 1838\n",
      "2111 1838\n",
      "2111 1301\n",
      "2060 1301\n",
      "2060 1300\n",
      "1857 1300\n",
      "1857 1301\n",
      "1799 1301\n",
      "1799 1300\n",
      "TextRegion\n",
      "{http://schema.primaresearch.org/PAGE/gts/pagecontent/2010-03-19}TextRegion\n",
      "2117 1351\n",
      "2117 2185\n",
      "2165 2185\n",
      "2165 2184\n",
      "2379 2184\n",
      "2379 2185\n",
      "2426 2185\n",
      "2426 2184\n",
      "2535 2184\n",
      "2535 2185\n",
      "2581 2185\n",
      "2581 2184\n",
      "2675 2184\n",
      "2675 2182\n",
      "2744 2182\n",
      "2744 2184\n",
      "2796 2184\n",
      "2796 2185\n",
      "2895 2185\n",
      "2895 1821\n",
      "2946 1821\n",
      "2946 1300\n",
      "2900 1300\n",
      "2900 1301\n",
      "2739 1301\n",
      "2739 1300\n",
      "2535 1300\n",
      "2535 1301\n",
      "2477 1301\n",
      "2477 1300\n",
      "2321 1300\n",
      "2321 1299\n",
      "2274 1299\n",
      "2274 1300\n",
      "2185 1300\n",
      "2185 1351\n",
      "TextRegion\n",
      "{http://schema.primaresearch.org/PAGE/gts/pagecontent/2010-03-19}TextRegion\n",
      "2953 1351\n",
      "2953 2185\n",
      "3057 2185\n",
      "3057 2186\n",
      "3103 2186\n",
      "3103 1301\n",
      "3019 1301\n",
      "3019 1351\n",
      "TextRegion\n",
      "{http://schema.primaresearch.org/PAGE/gts/pagecontent/2010-03-19}TextRegion\n",
      "2379 414\n",
      "2379 1247\n",
      "2425 1247\n",
      "2425 1246\n",
      "2477 1246\n",
      "2477 1244\n",
      "2549 1244\n",
      "2549 1247\n",
      "2582 1247\n",
      "2582 1246\n",
      "2744 1246\n",
      "2744 1247\n",
      "2848 1247\n",
      "2848 1248\n",
      "2895 1248\n",
      "2895 1247\n",
      "3004 1247\n",
      "3004 1248\n",
      "3038 1248\n",
      "3038 1245\n",
      "3098 1245\n",
      "3098 364\n",
      "3051 364\n",
      "3051 363\n",
      "3004 363\n",
      "3004 364\n",
      "2947 364\n",
      "2947 363\n",
      "2900 363\n",
      "2900 364\n",
      "2843 364\n",
      "2843 363\n",
      "2791 363\n",
      "2791 362\n",
      "2744 362\n",
      "2744 363\n",
      "2587 363\n",
      "2587 364\n",
      "2530 364\n",
      "2530 363\n",
      "2445 363\n",
      "2445 414\n",
      "NoiseRegion\n",
      "{http://schema.primaresearch.org/PAGE/gts/pagecontent/2010-03-19}NoiseRegion\n",
      "43 19\n",
      "43 20\n",
      "54 20\n",
      "54 21\n",
      "216 21\n",
      "216 22\n",
      "771 22\n",
      "771 24\n",
      "1135 24\n",
      "1135 25\n",
      "1291 25\n",
      "1291 26\n",
      "1453 26\n",
      "1404 26\n",
      "1404 25\n",
      "1350 25\n",
      "1350 24\n",
      "1296 24\n",
      "1296 23\n",
      "1242 23\n",
      "1242 22\n",
      "1188 22\n",
      "1188 21\n",
      "1134 21\n",
      "1134 20\n",
      "1080 20\n",
      "1080 19\n",
      "845 19\n",
      "845 18\n",
      "810 18\n",
      "810 17\n",
      "648 17\n",
      "648 16\n",
      "586 16\n",
      "586 17\n",
      "313 17\n",
      "313 18\n",
      "44 18\n",
      "44 19\n"
     ]
    },
    {
     "name": "stderr",
     "output_type": "stream",
     "text": [
      "/home/tmquan/anaconda3/lib/python3.5/site-packages/skimage/io/_io.py:140: UserWarning: tmp.png is a low contrast image\n",
      "  warn('%s is a low contrast image' % fname)\n"
     ]
    }
   ],
   "source": [
    "from lxml import etree\n",
    "\n",
    "tree = etree.parse(xmlFile)\n",
    "root = tree.getroot()\n",
    "# print(root)\n",
    "# print(root.tag)\n",
    "# print(root.attrib)\n",
    "\n",
    "# for child in root.getchildren():\n",
    "#     print(child.tag)\n",
    "#     print(child.attrib) \n",
    "#     metadata = child.attrib\n",
    "    \n",
    "# # Create an empty image here    \n",
    "# imageFilename = str(metadata['imageFilename'])\n",
    "# imageHeight = int(metadata['imageHeight'])\n",
    "# imageWidth = int(metadata['imageWidth'])\n",
    "\n",
    "# label = np.zeros([imageHeight, imageWidth])\n",
    "# print(label.shape)\n",
    "# for elem in root.getiterator():\n",
    "#     print(elem.tag, elem.attrib)\n",
    "\n",
    "for elem in root.getiterator():\n",
    "    if 'Page' in elem.tag:\n",
    "        print(elem.attrib)\n",
    "        metadata = child.attrib\n",
    "        \n",
    "imageFilename = str(metadata['imageFilename'])\n",
    "imageHeight = int(metadata['imageHeight'])\n",
    "imageWidth = int(metadata['imageWidth'])\n",
    "\n",
    "# Create an empty image\n",
    "label = np.zeros([imageHeight, imageWidth])\n",
    "\n",
    "for elem in root.getiterator():\n",
    "    for seman in semans:\n",
    "        if seman in elem.tag: #if 'TextRegion' in elem.tag:\n",
    "            print(seman)\n",
    "            print(elem.tag)\n",
    "\n",
    "\n",
    "            for item in elem.getchildren(): #type\n",
    "                vertex_row_coords = []\n",
    "                vertex_col_coords = []\n",
    "\n",
    "                for coord in item.getchildren():\n",
    "                    print(coord.attrib['y'], coord.attrib['x'])\n",
    "                    vertex_row_coords.append(int(coord.attrib['y']))\n",
    "                    vertex_col_coords.append(int(coord.attrib['x']))\n",
    "\n",
    "                from skimage import draw\n",
    "                fill_row_coords, fill_col_coords = draw.polygon(vertex_row_coords, vertex_col_coords, image.shape)\n",
    "                mask = np.zeros(image.shape, dtype=np.bool)\n",
    "                mask[fill_row_coords, fill_col_coords] = True\n",
    "            label[mask==True] = schema[seman] #image[mask==True] = schema['TextRegion']\n",
    "        \n",
    "import skimage.io\n",
    "import skimage.transform\n",
    "\n",
    "# Resize the image\n",
    "dstImageFilename = \n",
    "skimage.io.imsave('tmp.png', label.astype(np.uint8))"
   ]
  },
  {
   "cell_type": "code",
   "execution_count": null,
   "metadata": {
    "collapsed": true
   },
   "outputs": [],
   "source": []
  }
 ],
 "metadata": {
  "anaconda-cloud": {},
  "kernelspec": {
   "display_name": "Python [conda env:anaconda3]",
   "language": "python",
   "name": "conda-env-anaconda3-py"
  },
  "language_info": {
   "codemirror_mode": {
    "name": "ipython",
    "version": 3
   },
   "file_extension": ".py",
   "mimetype": "text/x-python",
   "name": "python",
   "nbconvert_exporter": "python",
   "pygments_lexer": "ipython3",
   "version": "3.5.2"
  }
 },
 "nbformat": 4,
 "nbformat_minor": 1
}
